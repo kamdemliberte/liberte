{
 "cells": [
  {
   "cell_type": "code",
   "execution_count": 178,
   "id": "900e18c2",
   "metadata": {},
   "outputs": [],
   "source": [
    "import pandas as pd\n",
    "import matplotlib.pyplot as plt\n",
    "import numpy as np\n",
    "import seaborn as sns\n",
    "%matplotlib inline"
   ]
  },
  {
   "cell_type": "code",
   "execution_count": 179,
   "id": "da831be7",
   "metadata": {},
   "outputs": [],
   "source": [
    "c=pd.read_csv('second hand board.csv')"
   ]
  },
  {
   "cell_type": "code",
   "execution_count": 180,
   "id": "7529e2af",
   "metadata": {},
   "outputs": [
    {
     "data": {
      "text/html": [
       "<div>\n",
       "<style scoped>\n",
       "    .dataframe tbody tr th:only-of-type {\n",
       "        vertical-align: middle;\n",
       "    }\n",
       "\n",
       "    .dataframe tbody tr th {\n",
       "        vertical-align: top;\n",
       "    }\n",
       "\n",
       "    .dataframe thead th {\n",
       "        text-align: right;\n",
       "    }\n",
       "</style>\n",
       "<table border=\"1\" class=\"dataframe\">\n",
       "  <thead>\n",
       "    <tr style=\"text-align: right;\">\n",
       "      <th></th>\n",
       "      <th>Age of boat</th>\n",
       "      <th>Number of Years</th>\n",
       "      <th>Length of boat</th>\n",
       "      <th>Motor size (HP)</th>\n",
       "      <th>Number of engines</th>\n",
       "      <th>Bowrider vs. center console</th>\n",
       "      <th>Brand of boat</th>\n",
       "      <th>Motor type</th>\n",
       "      <th>Asking price</th>\n",
       "      <th>Unnamed: 9</th>\n",
       "    </tr>\n",
       "  </thead>\n",
       "  <tbody>\n",
       "    <tr>\n",
       "      <th>0</th>\n",
       "      <td>2016</td>\n",
       "      <td>4</td>\n",
       "      <td>22</td>\n",
       "      <td>220.0</td>\n",
       "      <td>1.0</td>\n",
       "      <td>B</td>\n",
       "      <td>BL</td>\n",
       "      <td>IB</td>\n",
       "      <td>33500.0</td>\n",
       "      <td>NaN</td>\n",
       "    </tr>\n",
       "    <tr>\n",
       "      <th>1</th>\n",
       "      <td>2011</td>\n",
       "      <td>9</td>\n",
       "      <td>21</td>\n",
       "      <td>220.0</td>\n",
       "      <td>1.0</td>\n",
       "      <td>B</td>\n",
       "      <td>BL</td>\n",
       "      <td>IB</td>\n",
       "      <td>24995.0</td>\n",
       "      <td>NaN</td>\n",
       "    </tr>\n",
       "    <tr>\n",
       "      <th>2</th>\n",
       "      <td>2019</td>\n",
       "      <td>1</td>\n",
       "      <td>20</td>\n",
       "      <td>250.0</td>\n",
       "      <td>1.0</td>\n",
       "      <td>B</td>\n",
       "      <td>BL</td>\n",
       "      <td>IB</td>\n",
       "      <td>44599.0</td>\n",
       "      <td>NaN</td>\n",
       "    </tr>\n",
       "    <tr>\n",
       "      <th>3</th>\n",
       "      <td>2011</td>\n",
       "      <td>9</td>\n",
       "      <td>23</td>\n",
       "      <td>260.0</td>\n",
       "      <td>1.0</td>\n",
       "      <td>B</td>\n",
       "      <td>BL</td>\n",
       "      <td>IB</td>\n",
       "      <td>29900.0</td>\n",
       "      <td>NaN</td>\n",
       "    </tr>\n",
       "    <tr>\n",
       "      <th>4</th>\n",
       "      <td>2020</td>\n",
       "      <td>0</td>\n",
       "      <td>22</td>\n",
       "      <td>200.0</td>\n",
       "      <td>1.0</td>\n",
       "      <td>B</td>\n",
       "      <td>BL</td>\n",
       "      <td>IB</td>\n",
       "      <td>41995.0</td>\n",
       "      <td>NaN</td>\n",
       "    </tr>\n",
       "    <tr>\n",
       "      <th>...</th>\n",
       "      <td>...</td>\n",
       "      <td>...</td>\n",
       "      <td>...</td>\n",
       "      <td>...</td>\n",
       "      <td>...</td>\n",
       "      <td>...</td>\n",
       "      <td>...</td>\n",
       "      <td>...</td>\n",
       "      <td>...</td>\n",
       "      <td>...</td>\n",
       "    </tr>\n",
       "    <tr>\n",
       "      <th>65</th>\n",
       "      <td>2013</td>\n",
       "      <td>7</td>\n",
       "      <td>20</td>\n",
       "      <td>300.0</td>\n",
       "      <td>1.0</td>\n",
       "      <td>CC</td>\n",
       "      <td>GW</td>\n",
       "      <td>OB</td>\n",
       "      <td>40000.0</td>\n",
       "      <td>NaN</td>\n",
       "    </tr>\n",
       "    <tr>\n",
       "      <th>66</th>\n",
       "      <td>2011</td>\n",
       "      <td>9</td>\n",
       "      <td>20</td>\n",
       "      <td>200.0</td>\n",
       "      <td>1.0</td>\n",
       "      <td>CC</td>\n",
       "      <td>GW</td>\n",
       "      <td>OB</td>\n",
       "      <td>41499.0</td>\n",
       "      <td>NaN</td>\n",
       "    </tr>\n",
       "    <tr>\n",
       "      <th>67</th>\n",
       "      <td>2017</td>\n",
       "      <td>3</td>\n",
       "      <td>20</td>\n",
       "      <td>200.0</td>\n",
       "      <td>1.0</td>\n",
       "      <td>CC</td>\n",
       "      <td>GW</td>\n",
       "      <td>OB</td>\n",
       "      <td>66000.0</td>\n",
       "      <td>NaN</td>\n",
       "    </tr>\n",
       "    <tr>\n",
       "      <th>68</th>\n",
       "      <td>2017</td>\n",
       "      <td>3</td>\n",
       "      <td>18</td>\n",
       "      <td>150.0</td>\n",
       "      <td>1.0</td>\n",
       "      <td>CC</td>\n",
       "      <td>GW</td>\n",
       "      <td>OB</td>\n",
       "      <td>44900.0</td>\n",
       "      <td>NaN</td>\n",
       "    </tr>\n",
       "    <tr>\n",
       "      <th>69</th>\n",
       "      <td>2020</td>\n",
       "      <td>0</td>\n",
       "      <td>18</td>\n",
       "      <td>NaN</td>\n",
       "      <td>NaN</td>\n",
       "      <td>NaN</td>\n",
       "      <td>NaN</td>\n",
       "      <td>NaN</td>\n",
       "      <td>NaN</td>\n",
       "      <td>NaN</td>\n",
       "    </tr>\n",
       "  </tbody>\n",
       "</table>\n",
       "<p>70 rows × 10 columns</p>\n",
       "</div>"
      ],
      "text/plain": [
       "    Age of boat   Number of Years  Length of boat   Motor size (HP)  \\\n",
       "0           2016                4               22            220.0   \n",
       "1           2011                9               21            220.0   \n",
       "2           2019                1               20            250.0   \n",
       "3           2011                9               23            260.0   \n",
       "4           2020                0               22            200.0   \n",
       "..           ...              ...              ...              ...   \n",
       "65          2013                7               20            300.0   \n",
       "66          2011                9               20            200.0   \n",
       "67          2017                3               20            200.0   \n",
       "68          2017                3               18            150.0   \n",
       "69          2020                0               18              NaN   \n",
       "\n",
       "    Number of engines Bowrider vs. center console   Brand of boat   \\\n",
       "0                 1.0                            B              BL   \n",
       "1                 1.0                            B              BL   \n",
       "2                 1.0                            B              BL   \n",
       "3                 1.0                            B              BL   \n",
       "4                 1.0                            B              BL   \n",
       "..                ...                          ...             ...   \n",
       "65                1.0                           CC              GW   \n",
       "66                1.0                           CC              GW   \n",
       "67                1.0                           CC              GW   \n",
       "68                1.0                           CC              GW   \n",
       "69                NaN                          NaN             NaN   \n",
       "\n",
       "   Motor type   Asking price   Unnamed: 9  \n",
       "0           IB        33500.0         NaN  \n",
       "1           IB        24995.0         NaN  \n",
       "2           IB        44599.0         NaN  \n",
       "3           IB        29900.0         NaN  \n",
       "4           IB        41995.0         NaN  \n",
       "..         ...            ...         ...  \n",
       "65          OB        40000.0         NaN  \n",
       "66          OB        41499.0         NaN  \n",
       "67          OB        66000.0         NaN  \n",
       "68          OB        44900.0         NaN  \n",
       "69         NaN            NaN         NaN  \n",
       "\n",
       "[70 rows x 10 columns]"
      ]
     },
     "execution_count": 180,
     "metadata": {},
     "output_type": "execute_result"
    }
   ],
   "source": [
    "c"
   ]
  },
  {
   "cell_type": "code",
   "execution_count": 181,
   "id": "c968661b",
   "metadata": {},
   "outputs": [],
   "source": [
    "c.rename(columns={8: 'Asking_price'}, inplace=True)"
   ]
  },
  {
   "cell_type": "code",
   "execution_count": 182,
   "id": "a67c17d5",
   "metadata": {},
   "outputs": [
    {
     "data": {
      "text/plain": [
       "Index(['Age of boat ', 'Number of Years', 'Length of boat ', 'Motor size (HP)',\n",
       "       'Number of engines', 'Bowrider vs. center console ', ' Brand of boat ',\n",
       "       'Motor type ', 'Asking price ', 'Unnamed: 9'],\n",
       "      dtype='object')"
      ]
     },
     "execution_count": 182,
     "metadata": {},
     "output_type": "execute_result"
    }
   ],
   "source": [
    "c.columns"
   ]
  },
  {
   "cell_type": "markdown",
   "id": "922667b9",
   "metadata": {},
   "source": [
    "### Replace Columns Names with python standard names"
   ]
  },
  {
   "cell_type": "code",
   "execution_count": 183,
   "id": "9364062a",
   "metadata": {},
   "outputs": [],
   "source": [
    "c.columns=['Age_of_boat','Number_of_Years','Lenght_of_boat','Motor_size','Number_of_engines','Bowrider_vs_center_console',\n",
    "          'Brand_of_boat','Motor_type','Asking_price','Unnamed: 9']"
   ]
  },
  {
   "cell_type": "code",
   "execution_count": 184,
   "id": "2d7e1c0a",
   "metadata": {},
   "outputs": [
    {
     "name": "stdout",
     "output_type": "stream",
     "text": [
      "<class 'pandas.core.frame.DataFrame'>\n",
      "RangeIndex: 70 entries, 0 to 69\n",
      "Data columns (total 10 columns):\n",
      " #   Column                      Non-Null Count  Dtype  \n",
      "---  ------                      --------------  -----  \n",
      " 0   Age_of_boat                 70 non-null     int64  \n",
      " 1   Number_of_Years             70 non-null     int64  \n",
      " 2   Lenght_of_boat              70 non-null     int64  \n",
      " 3   Motor_size                  69 non-null     float64\n",
      " 4   Number_of_engines           69 non-null     float64\n",
      " 5   Bowrider_vs_center_console  69 non-null     object \n",
      " 6   Brand_of_boat               69 non-null     object \n",
      " 7   Motor_type                  69 non-null     object \n",
      " 8   Asking_price                68 non-null     float64\n",
      " 9   Unnamed: 9                  1 non-null      float64\n",
      "dtypes: float64(4), int64(3), object(3)\n",
      "memory usage: 5.6+ KB\n"
     ]
    }
   ],
   "source": [
    "c.info()"
   ]
  },
  {
   "cell_type": "code",
   "execution_count": 185,
   "id": "4c62d16a",
   "metadata": {},
   "outputs": [],
   "source": [
    "#df.isnull().count()"
   ]
  },
  {
   "cell_type": "code",
   "execution_count": 186,
   "id": "2346dd09",
   "metadata": {},
   "outputs": [
    {
     "data": {
      "text/plain": [
       "Age_of_boat                    0\n",
       "Number_of_Years                0\n",
       "Lenght_of_boat                 0\n",
       "Motor_size                     1\n",
       "Number_of_engines              1\n",
       "Bowrider_vs_center_console     1\n",
       "Brand_of_boat                  1\n",
       "Motor_type                     1\n",
       "Asking_price                   2\n",
       "Unnamed: 9                    69\n",
       "dtype: int64"
      ]
     },
     "execution_count": 186,
     "metadata": {},
     "output_type": "execute_result"
    }
   ],
   "source": [
    "c.isnull().sum()"
   ]
  },
  {
   "cell_type": "code",
   "execution_count": 187,
   "id": "b3724b40",
   "metadata": {},
   "outputs": [
    {
     "data": {
      "text/html": [
       "<div>\n",
       "<style scoped>\n",
       "    .dataframe tbody tr th:only-of-type {\n",
       "        vertical-align: middle;\n",
       "    }\n",
       "\n",
       "    .dataframe tbody tr th {\n",
       "        vertical-align: top;\n",
       "    }\n",
       "\n",
       "    .dataframe thead th {\n",
       "        text-align: right;\n",
       "    }\n",
       "</style>\n",
       "<table border=\"1\" class=\"dataframe\">\n",
       "  <thead>\n",
       "    <tr style=\"text-align: right;\">\n",
       "      <th></th>\n",
       "      <th>Age_of_boat</th>\n",
       "      <th>Number_of_Years</th>\n",
       "      <th>Lenght_of_boat</th>\n",
       "      <th>Motor_size</th>\n",
       "      <th>Number_of_engines</th>\n",
       "      <th>Bowrider_vs_center_console</th>\n",
       "      <th>Brand_of_boat</th>\n",
       "      <th>Motor_type</th>\n",
       "      <th>Asking_price</th>\n",
       "    </tr>\n",
       "  </thead>\n",
       "  <tbody>\n",
       "    <tr>\n",
       "      <th>0</th>\n",
       "      <td>2016</td>\n",
       "      <td>4</td>\n",
       "      <td>22</td>\n",
       "      <td>220.0</td>\n",
       "      <td>1.0</td>\n",
       "      <td>B</td>\n",
       "      <td>BL</td>\n",
       "      <td>IB</td>\n",
       "      <td>33500.0</td>\n",
       "    </tr>\n",
       "    <tr>\n",
       "      <th>1</th>\n",
       "      <td>2011</td>\n",
       "      <td>9</td>\n",
       "      <td>21</td>\n",
       "      <td>220.0</td>\n",
       "      <td>1.0</td>\n",
       "      <td>B</td>\n",
       "      <td>BL</td>\n",
       "      <td>IB</td>\n",
       "      <td>24995.0</td>\n",
       "    </tr>\n",
       "    <tr>\n",
       "      <th>2</th>\n",
       "      <td>2019</td>\n",
       "      <td>1</td>\n",
       "      <td>20</td>\n",
       "      <td>250.0</td>\n",
       "      <td>1.0</td>\n",
       "      <td>B</td>\n",
       "      <td>BL</td>\n",
       "      <td>IB</td>\n",
       "      <td>44599.0</td>\n",
       "    </tr>\n",
       "    <tr>\n",
       "      <th>3</th>\n",
       "      <td>2011</td>\n",
       "      <td>9</td>\n",
       "      <td>23</td>\n",
       "      <td>260.0</td>\n",
       "      <td>1.0</td>\n",
       "      <td>B</td>\n",
       "      <td>BL</td>\n",
       "      <td>IB</td>\n",
       "      <td>29900.0</td>\n",
       "    </tr>\n",
       "    <tr>\n",
       "      <th>4</th>\n",
       "      <td>2020</td>\n",
       "      <td>0</td>\n",
       "      <td>22</td>\n",
       "      <td>200.0</td>\n",
       "      <td>1.0</td>\n",
       "      <td>B</td>\n",
       "      <td>BL</td>\n",
       "      <td>IB</td>\n",
       "      <td>41995.0</td>\n",
       "    </tr>\n",
       "    <tr>\n",
       "      <th>...</th>\n",
       "      <td>...</td>\n",
       "      <td>...</td>\n",
       "      <td>...</td>\n",
       "      <td>...</td>\n",
       "      <td>...</td>\n",
       "      <td>...</td>\n",
       "      <td>...</td>\n",
       "      <td>...</td>\n",
       "      <td>...</td>\n",
       "    </tr>\n",
       "    <tr>\n",
       "      <th>65</th>\n",
       "      <td>2013</td>\n",
       "      <td>7</td>\n",
       "      <td>20</td>\n",
       "      <td>300.0</td>\n",
       "      <td>1.0</td>\n",
       "      <td>CC</td>\n",
       "      <td>GW</td>\n",
       "      <td>OB</td>\n",
       "      <td>40000.0</td>\n",
       "    </tr>\n",
       "    <tr>\n",
       "      <th>66</th>\n",
       "      <td>2011</td>\n",
       "      <td>9</td>\n",
       "      <td>20</td>\n",
       "      <td>200.0</td>\n",
       "      <td>1.0</td>\n",
       "      <td>CC</td>\n",
       "      <td>GW</td>\n",
       "      <td>OB</td>\n",
       "      <td>41499.0</td>\n",
       "    </tr>\n",
       "    <tr>\n",
       "      <th>67</th>\n",
       "      <td>2017</td>\n",
       "      <td>3</td>\n",
       "      <td>20</td>\n",
       "      <td>200.0</td>\n",
       "      <td>1.0</td>\n",
       "      <td>CC</td>\n",
       "      <td>GW</td>\n",
       "      <td>OB</td>\n",
       "      <td>66000.0</td>\n",
       "    </tr>\n",
       "    <tr>\n",
       "      <th>68</th>\n",
       "      <td>2017</td>\n",
       "      <td>3</td>\n",
       "      <td>18</td>\n",
       "      <td>150.0</td>\n",
       "      <td>1.0</td>\n",
       "      <td>CC</td>\n",
       "      <td>GW</td>\n",
       "      <td>OB</td>\n",
       "      <td>44900.0</td>\n",
       "    </tr>\n",
       "    <tr>\n",
       "      <th>69</th>\n",
       "      <td>2020</td>\n",
       "      <td>0</td>\n",
       "      <td>18</td>\n",
       "      <td>NaN</td>\n",
       "      <td>NaN</td>\n",
       "      <td>NaN</td>\n",
       "      <td>NaN</td>\n",
       "      <td>NaN</td>\n",
       "      <td>NaN</td>\n",
       "    </tr>\n",
       "  </tbody>\n",
       "</table>\n",
       "<p>70 rows × 9 columns</p>\n",
       "</div>"
      ],
      "text/plain": [
       "    Age_of_boat  Number_of_Years  Lenght_of_boat  Motor_size  \\\n",
       "0          2016                4              22       220.0   \n",
       "1          2011                9              21       220.0   \n",
       "2          2019                1              20       250.0   \n",
       "3          2011                9              23       260.0   \n",
       "4          2020                0              22       200.0   \n",
       "..          ...              ...             ...         ...   \n",
       "65         2013                7              20       300.0   \n",
       "66         2011                9              20       200.0   \n",
       "67         2017                3              20       200.0   \n",
       "68         2017                3              18       150.0   \n",
       "69         2020                0              18         NaN   \n",
       "\n",
       "    Number_of_engines Bowrider_vs_center_console Brand_of_boat Motor_type  \\\n",
       "0                 1.0                          B            BL         IB   \n",
       "1                 1.0                          B            BL         IB   \n",
       "2                 1.0                          B            BL         IB   \n",
       "3                 1.0                          B            BL         IB   \n",
       "4                 1.0                          B            BL         IB   \n",
       "..                ...                        ...           ...        ...   \n",
       "65                1.0                         CC            GW         OB   \n",
       "66                1.0                         CC            GW         OB   \n",
       "67                1.0                         CC            GW         OB   \n",
       "68                1.0                         CC            GW         OB   \n",
       "69                NaN                        NaN           NaN        NaN   \n",
       "\n",
       "    Asking_price  \n",
       "0        33500.0  \n",
       "1        24995.0  \n",
       "2        44599.0  \n",
       "3        29900.0  \n",
       "4        41995.0  \n",
       "..           ...  \n",
       "65       40000.0  \n",
       "66       41499.0  \n",
       "67       66000.0  \n",
       "68       44900.0  \n",
       "69           NaN  \n",
       "\n",
       "[70 rows x 9 columns]"
      ]
     },
     "execution_count": 187,
     "metadata": {},
     "output_type": "execute_result"
    }
   ],
   "source": [
    "df=c.drop(['Unnamed: 9'],axis=1)\n",
    "df"
   ]
  },
  {
   "cell_type": "code",
   "execution_count": 188,
   "id": "a23f6c65",
   "metadata": {},
   "outputs": [
    {
     "data": {
      "text/plain": [
       "(70, 10)"
      ]
     },
     "execution_count": 188,
     "metadata": {},
     "output_type": "execute_result"
    }
   ],
   "source": [
    "c.shape\n"
   ]
  },
  {
   "cell_type": "code",
   "execution_count": 189,
   "id": "a2fa0c47",
   "metadata": {},
   "outputs": [
    {
     "data": {
      "text/plain": [
       "(70, 9)"
      ]
     },
     "execution_count": 189,
     "metadata": {},
     "output_type": "execute_result"
    }
   ],
   "source": [
    "df.shape"
   ]
  },
  {
   "cell_type": "code",
   "execution_count": 190,
   "id": "14bb68e4",
   "metadata": {},
   "outputs": [
    {
     "data": {
      "text/html": [
       "<div>\n",
       "<style scoped>\n",
       "    .dataframe tbody tr th:only-of-type {\n",
       "        vertical-align: middle;\n",
       "    }\n",
       "\n",
       "    .dataframe tbody tr th {\n",
       "        vertical-align: top;\n",
       "    }\n",
       "\n",
       "    .dataframe thead th {\n",
       "        text-align: right;\n",
       "    }\n",
       "</style>\n",
       "<table border=\"1\" class=\"dataframe\">\n",
       "  <thead>\n",
       "    <tr style=\"text-align: right;\">\n",
       "      <th></th>\n",
       "      <th>Age_of_boat</th>\n",
       "      <th>Number_of_Years</th>\n",
       "      <th>Lenght_of_boat</th>\n",
       "      <th>Motor_size</th>\n",
       "      <th>Number_of_engines</th>\n",
       "      <th>Bowrider_vs_center_console</th>\n",
       "      <th>Brand_of_boat</th>\n",
       "      <th>Motor_type</th>\n",
       "      <th>Asking_price</th>\n",
       "    </tr>\n",
       "  </thead>\n",
       "  <tbody>\n",
       "    <tr>\n",
       "      <th>43</th>\n",
       "      <td>2015</td>\n",
       "      <td>5</td>\n",
       "      <td>19</td>\n",
       "      <td>150.0</td>\n",
       "      <td>1.0</td>\n",
       "      <td>B</td>\n",
       "      <td>GW</td>\n",
       "      <td>OB</td>\n",
       "      <td>NaN</td>\n",
       "    </tr>\n",
       "    <tr>\n",
       "      <th>69</th>\n",
       "      <td>2020</td>\n",
       "      <td>0</td>\n",
       "      <td>18</td>\n",
       "      <td>NaN</td>\n",
       "      <td>NaN</td>\n",
       "      <td>NaN</td>\n",
       "      <td>NaN</td>\n",
       "      <td>NaN</td>\n",
       "      <td>NaN</td>\n",
       "    </tr>\n",
       "  </tbody>\n",
       "</table>\n",
       "</div>"
      ],
      "text/plain": [
       "    Age_of_boat  Number_of_Years  Lenght_of_boat  Motor_size  \\\n",
       "43         2015                5              19       150.0   \n",
       "69         2020                0              18         NaN   \n",
       "\n",
       "    Number_of_engines Bowrider_vs_center_console Brand_of_boat Motor_type  \\\n",
       "43                1.0                          B            GW         OB   \n",
       "69                NaN                        NaN           NaN        NaN   \n",
       "\n",
       "    Asking_price  \n",
       "43           NaN  \n",
       "69           NaN  "
      ]
     },
     "execution_count": 190,
     "metadata": {},
     "output_type": "execute_result"
    }
   ],
   "source": [
    "df[df.isnull().any(axis=1)]"
   ]
  },
  {
   "cell_type": "code",
   "execution_count": 191,
   "id": "21a2976e",
   "metadata": {},
   "outputs": [],
   "source": [
    "df1=df.dropna()"
   ]
  },
  {
   "cell_type": "code",
   "execution_count": 192,
   "id": "55c8bfca",
   "metadata": {},
   "outputs": [
    {
     "data": {
      "text/plain": [
       "(68, 9)"
      ]
     },
     "execution_count": 192,
     "metadata": {},
     "output_type": "execute_result"
    }
   ],
   "source": [
    "df1.shape"
   ]
  },
  {
   "cell_type": "code",
   "execution_count": 193,
   "id": "853bc72d",
   "metadata": {},
   "outputs": [
    {
     "name": "stdout",
     "output_type": "stream",
     "text": [
      "<class 'pandas.core.frame.DataFrame'>\n",
      "Int64Index: 68 entries, 0 to 68\n",
      "Data columns (total 9 columns):\n",
      " #   Column                      Non-Null Count  Dtype  \n",
      "---  ------                      --------------  -----  \n",
      " 0   Age_of_boat                 68 non-null     int64  \n",
      " 1   Number_of_Years             68 non-null     int64  \n",
      " 2   Lenght_of_boat              68 non-null     int64  \n",
      " 3   Motor_size                  68 non-null     float64\n",
      " 4   Number_of_engines           68 non-null     float64\n",
      " 5   Bowrider_vs_center_console  68 non-null     object \n",
      " 6   Brand_of_boat               68 non-null     object \n",
      " 7   Motor_type                  68 non-null     object \n",
      " 8   Asking_price                68 non-null     float64\n",
      "dtypes: float64(3), int64(3), object(3)\n",
      "memory usage: 5.3+ KB\n"
     ]
    }
   ],
   "source": [
    "df1.info()"
   ]
  },
  {
   "cell_type": "code",
   "execution_count": 194,
   "id": "55770d31",
   "metadata": {},
   "outputs": [
    {
     "data": {
      "text/plain": [
       "array([4, 9, 1, 0, 3, 8, 6, 7, 2, 5], dtype=int64)"
      ]
     },
     "execution_count": 194,
     "metadata": {},
     "output_type": "execute_result"
    }
   ],
   "source": [
    "c['Number_of_Years'].unique()"
   ]
  },
  {
   "cell_type": "code",
   "execution_count": 195,
   "id": "079b9175",
   "metadata": {},
   "outputs": [
    {
     "data": {
      "text/plain": [
       "array([22, 21, 20, 23, 19, 18, 24, 26, 25], dtype=int64)"
      ]
     },
     "execution_count": 195,
     "metadata": {},
     "output_type": "execute_result"
    }
   ],
   "source": [
    "c['Lenght_of_boat'].unique()"
   ]
  },
  {
   "cell_type": "code",
   "execution_count": 196,
   "id": "5bbeb2de",
   "metadata": {},
   "outputs": [
    {
     "data": {
      "text/plain": [
       "Index(['Age_of_boat', 'Number_of_Years', 'Lenght_of_boat', 'Motor_size',\n",
       "       'Number_of_engines', 'Bowrider_vs_center_console', 'Brand_of_boat',\n",
       "       'Motor_type', 'Asking_price'],\n",
       "      dtype='object')"
      ]
     },
     "execution_count": 196,
     "metadata": {},
     "output_type": "execute_result"
    }
   ],
   "source": [
    "df.columns"
   ]
  },
  {
   "cell_type": "code",
   "execution_count": 197,
   "id": "bbc9f54e",
   "metadata": {},
   "outputs": [
    {
     "data": {
      "text/plain": [
       "<seaborn.axisgrid.FacetGrid at 0x1d50005a8e0>"
      ]
     },
     "execution_count": 197,
     "metadata": {},
     "output_type": "execute_result"
    },
    {
     "data": {
      "image/png": "[encoded data removed]",
      "text/plain": [
       "<Figure size 439.75x360 with 1 Axes>"
      ]
     },
     "metadata": {
      "needs_background": "light"
     },
     "output_type": "display_data"
    }
   ],
   "source": [
    "sns.lmplot(data=df,x='Number_of_Years',y='Asking_price',hue='Brand_of_boat')"
   ]
  },
  {
   "cell_type": "markdown",
   "id": "afb2d83a",
   "metadata": {},
   "source": [
    "## Let work on the cluster by importing sklearns appropriate for the analysis."
   ]
  },
  {
   "cell_type": "code",
   "execution_count": 198,
   "id": "31fe90d1",
   "metadata": {},
   "outputs": [],
   "source": [
    "from sklearn.cluster import KMeans\n",
    "from sklearn.preprocessing import MinMaxScaler"
   ]
  },
  {
   "cell_type": "code",
   "execution_count": 199,
   "id": "0c30aea3",
   "metadata": {},
   "outputs": [
    {
     "data": {
      "text/plain": [
       "KMeans(n_clusters=2)"
      ]
     },
     "execution_count": 199,
     "metadata": {},
     "output_type": "execute_result"
    }
   ],
   "source": [
    "km=KMeans(n_clusters=2)\n",
    "km\n"
   ]
  },
  {
   "cell_type": "code",
   "execution_count": 200,
   "id": "af4dbf50",
   "metadata": {},
   "outputs": [
    {
     "data": {
      "text/plain": [
       "array([0, 0, 0, 0, 0, 0, 0, 0, 0, 0, 0, 0, 0, 0, 0, 0, 0, 0, 0, 0, 0, 0,\n",
       "       0, 0, 0, 0, 0, 0, 0, 0, 0, 0, 0, 0, 0, 0, 1, 1, 1, 0, 0, 0, 0, 0,\n",
       "       0, 0, 0, 0, 0, 0, 0, 0, 0, 0, 0, 1, 1, 1, 1, 1, 1, 1, 0, 1, 0, 0,\n",
       "       1, 0])"
      ]
     },
     "execution_count": 200,
     "metadata": {},
     "output_type": "execute_result"
    }
   ],
   "source": [
    "y_predicted=km.fit_predict(df1[['Number_of_Years','Asking_price']])\n",
    "y_predicted"
   ]
  },
  {
   "cell_type": "code",
   "execution_count": 201,
   "id": "7dd62022",
   "metadata": {},
   "outputs": [
    {
     "name": "stderr",
     "output_type": "stream",
     "text": [
      "<ipython-input-201-eb9581073073>:1: SettingWithCopyWarning: \n",
      "A value is trying to be set on a copy of a slice from a DataFrame.\n",
      "Try using .loc[row_indexer,col_indexer] = value instead\n",
      "\n",
      "See the caveats in the documentation: https://pandas.pydata.org/pandas-docs/stable/user_guide/indexing.html#returning-a-view-versus-a-copy\n",
      "  df1['cluster']=y_predicted\n"
     ]
    },
    {
     "data": {
      "text/html": [
       "<div>\n",
       "<style scoped>\n",
       "    .dataframe tbody tr th:only-of-type {\n",
       "        vertical-align: middle;\n",
       "    }\n",
       "\n",
       "    .dataframe tbody tr th {\n",
       "        vertical-align: top;\n",
       "    }\n",
       "\n",
       "    .dataframe thead th {\n",
       "        text-align: right;\n",
       "    }\n",
       "</style>\n",
       "<table border=\"1\" class=\"dataframe\">\n",
       "  <thead>\n",
       "    <tr style=\"text-align: right;\">\n",
       "      <th></th>\n",
       "      <th>Age_of_boat</th>\n",
       "      <th>Number_of_Years</th>\n",
       "      <th>Lenght_of_boat</th>\n",
       "      <th>Motor_size</th>\n",
       "      <th>Number_of_engines</th>\n",
       "      <th>Bowrider_vs_center_console</th>\n",
       "      <th>Brand_of_boat</th>\n",
       "      <th>Motor_type</th>\n",
       "      <th>Asking_price</th>\n",
       "      <th>cluster</th>\n",
       "    </tr>\n",
       "  </thead>\n",
       "  <tbody>\n",
       "    <tr>\n",
       "      <th>0</th>\n",
       "      <td>2016</td>\n",
       "      <td>4</td>\n",
       "      <td>22</td>\n",
       "      <td>220.0</td>\n",
       "      <td>1.0</td>\n",
       "      <td>B</td>\n",
       "      <td>BL</td>\n",
       "      <td>IB</td>\n",
       "      <td>33500.0</td>\n",
       "      <td>0</td>\n",
       "    </tr>\n",
       "    <tr>\n",
       "      <th>1</th>\n",
       "      <td>2011</td>\n",
       "      <td>9</td>\n",
       "      <td>21</td>\n",
       "      <td>220.0</td>\n",
       "      <td>1.0</td>\n",
       "      <td>B</td>\n",
       "      <td>BL</td>\n",
       "      <td>IB</td>\n",
       "      <td>24995.0</td>\n",
       "      <td>0</td>\n",
       "    </tr>\n",
       "    <tr>\n",
       "      <th>2</th>\n",
       "      <td>2019</td>\n",
       "      <td>1</td>\n",
       "      <td>20</td>\n",
       "      <td>250.0</td>\n",
       "      <td>1.0</td>\n",
       "      <td>B</td>\n",
       "      <td>BL</td>\n",
       "      <td>IB</td>\n",
       "      <td>44599.0</td>\n",
       "      <td>0</td>\n",
       "    </tr>\n",
       "    <tr>\n",
       "      <th>3</th>\n",
       "      <td>2011</td>\n",
       "      <td>9</td>\n",
       "      <td>23</td>\n",
       "      <td>260.0</td>\n",
       "      <td>1.0</td>\n",
       "      <td>B</td>\n",
       "      <td>BL</td>\n",
       "      <td>IB</td>\n",
       "      <td>29900.0</td>\n",
       "      <td>0</td>\n",
       "    </tr>\n",
       "    <tr>\n",
       "      <th>4</th>\n",
       "      <td>2020</td>\n",
       "      <td>0</td>\n",
       "      <td>22</td>\n",
       "      <td>200.0</td>\n",
       "      <td>1.0</td>\n",
       "      <td>B</td>\n",
       "      <td>BL</td>\n",
       "      <td>IB</td>\n",
       "      <td>41995.0</td>\n",
       "      <td>0</td>\n",
       "    </tr>\n",
       "  </tbody>\n",
       "</table>\n",
       "</div>"
      ],
      "text/plain": [
       "   Age_of_boat  Number_of_Years  Lenght_of_boat  Motor_size  \\\n",
       "0         2016                4              22       220.0   \n",
       "1         2011                9              21       220.0   \n",
       "2         2019                1              20       250.0   \n",
       "3         2011                9              23       260.0   \n",
       "4         2020                0              22       200.0   \n",
       "\n",
       "   Number_of_engines Bowrider_vs_center_console Brand_of_boat Motor_type  \\\n",
       "0                1.0                          B            BL         IB   \n",
       "1                1.0                          B            BL         IB   \n",
       "2                1.0                          B            BL         IB   \n",
       "3                1.0                          B            BL         IB   \n",
       "4                1.0                          B            BL         IB   \n",
       "\n",
       "   Asking_price  cluster  \n",
       "0       33500.0        0  \n",
       "1       24995.0        0  \n",
       "2       44599.0        0  \n",
       "3       29900.0        0  \n",
       "4       41995.0        0  "
      ]
     },
     "execution_count": 201,
     "metadata": {},
     "output_type": "execute_result"
    }
   ],
   "source": [
    "df1['cluster']=y_predicted\n",
    "df1.head()"
   ]
  },
  {
   "cell_type": "code",
   "execution_count": 202,
   "id": "c98e1a99",
   "metadata": {},
   "outputs": [],
   "source": [
    "df2=df1[df1.cluster==0]\n",
    "df3=df1[df1.cluster==1]\n",
    "\n"
   ]
  },
  {
   "cell_type": "code",
   "execution_count": 203,
   "id": "d2301a5f",
   "metadata": {},
   "outputs": [
    {
     "data": {
      "text/plain": [
       "<matplotlib.legend.Legend at 0x1d57ec362e0>"
      ]
     },
     "execution_count": 203,
     "metadata": {},
     "output_type": "execute_result"
    },
    {
     "data": {
      "image/png": "[encoded data removed]",
      "text/plain": [
       "<Figure size 432x288 with 1 Axes>"
      ]
     },
     "metadata": {
      "needs_background": "light"
     },
     "output_type": "display_data"
    }
   ],
   "source": [
    "plt.scatter(df2.Number_of_Years,df2['Asking_price'])\n",
    "plt.scatter(df3.Number_of_Years,df3['Asking_price'])\n",
    "\n",
    "plt.xlabel('Number_of_Years')\n",
    "plt.ylabel('Asking_price')\n",
    "plt.legend( 'clusteer price defien by kamdem')"
   ]
  },
  {
   "cell_type": "code",
   "execution_count": 204,
   "id": "3b4d12b4",
   "metadata": {},
   "outputs": [
    {
     "name": "stderr",
     "output_type": "stream",
     "text": [
      "<ipython-input-204-26841f84a32f>:1: SettingWithCopyWarning: \n",
      "A value is trying to be set on a copy of a slice from a DataFrame.\n",
      "Try using .loc[row_indexer,col_indexer] = value instead\n",
      "\n",
      "See the caveats in the documentation: https://pandas.pydata.org/pandas-docs/stable/user_guide/indexing.html#returning-a-view-versus-a-copy\n",
      "  df1['Asking_price']=df1['Asking_price'].values.astype(np.int64)\n"
     ]
    }
   ],
   "source": [
    "df1['Asking_price']=df1['Asking_price'].values.astype(np.int64)"
   ]
  },
  {
   "cell_type": "code",
   "execution_count": 205,
   "id": "260624c3",
   "metadata": {},
   "outputs": [
    {
     "data": {
      "text/plain": [
       "array([ 33500,  24995,  44599,  29900,  41995,  45999,  41000,  38400,\n",
       "        19975,  28900,  19250,  22900,  37990,  16500,  35975,  32650,\n",
       "        52269,  58719,  47149,  27900,  27850,  26945,  20995,  21900,\n",
       "        19900,  19500,  31000,  27995,  15900,  17999,  28755,  28734,\n",
       "        99500, 118900,  77900,  59900,  52857,  59995,  44900,  35999,\n",
       "        32995,  34567,  24597,  24997,  24615,  27359,  21997,  32200,\n",
       "        23849, 159000,  95000,  89500,  85000,  99900,  64995,  98900,\n",
       "        48500,  65900,  40000,  41499,  66000], dtype=int64)"
      ]
     },
     "execution_count": 205,
     "metadata": {},
     "output_type": "execute_result"
    }
   ],
   "source": [
    "df1['Asking_price'].unique()"
   ]
  },
  {
   "cell_type": "code",
   "execution_count": 206,
   "id": "f52b8beb",
   "metadata": {},
   "outputs": [],
   "source": [
    "scaler=MinMaxScaler()"
   ]
  },
  {
   "cell_type": "code",
   "execution_count": 207,
   "id": "1bc1b372",
   "metadata": {},
   "outputs": [
    {
     "name": "stderr",
     "output_type": "stream",
     "text": [
      "<ipython-input-207-c77f321f9cf9>:3: SettingWithCopyWarning: \n",
      "A value is trying to be set on a copy of a slice from a DataFrame.\n",
      "Try using .loc[row_indexer,col_indexer] = value instead\n",
      "\n",
      "See the caveats in the documentation: https://pandas.pydata.org/pandas-docs/stable/user_guide/indexing.html#returning-a-view-versus-a-copy\n",
      "  df1['Asking_price']=scaler.transform(df1[['Asking_price']])\n"
     ]
    },
    {
     "data": {
      "text/html": [
       "<div>\n",
       "<style scoped>\n",
       "    .dataframe tbody tr th:only-of-type {\n",
       "        vertical-align: middle;\n",
       "    }\n",
       "\n",
       "    .dataframe tbody tr th {\n",
       "        vertical-align: top;\n",
       "    }\n",
       "\n",
       "    .dataframe thead th {\n",
       "        text-align: right;\n",
       "    }\n",
       "</style>\n",
       "<table border=\"1\" class=\"dataframe\">\n",
       "  <thead>\n",
       "    <tr style=\"text-align: right;\">\n",
       "      <th></th>\n",
       "      <th>Age_of_boat</th>\n",
       "      <th>Number_of_Years</th>\n",
       "      <th>Lenght_of_boat</th>\n",
       "      <th>Motor_size</th>\n",
       "      <th>Number_of_engines</th>\n",
       "      <th>Bowrider_vs_center_console</th>\n",
       "      <th>Brand_of_boat</th>\n",
       "      <th>Motor_type</th>\n",
       "      <th>Asking_price</th>\n",
       "    </tr>\n",
       "  </thead>\n",
       "  <tbody>\n",
       "    <tr>\n",
       "      <th>0</th>\n",
       "      <td>2016</td>\n",
       "      <td>4</td>\n",
       "      <td>22</td>\n",
       "      <td>220.0</td>\n",
       "      <td>1.0</td>\n",
       "      <td>B</td>\n",
       "      <td>BL</td>\n",
       "      <td>IB</td>\n",
       "      <td>33500.0</td>\n",
       "    </tr>\n",
       "    <tr>\n",
       "      <th>1</th>\n",
       "      <td>2011</td>\n",
       "      <td>9</td>\n",
       "      <td>21</td>\n",
       "      <td>220.0</td>\n",
       "      <td>1.0</td>\n",
       "      <td>B</td>\n",
       "      <td>BL</td>\n",
       "      <td>IB</td>\n",
       "      <td>24995.0</td>\n",
       "    </tr>\n",
       "    <tr>\n",
       "      <th>2</th>\n",
       "      <td>2019</td>\n",
       "      <td>1</td>\n",
       "      <td>20</td>\n",
       "      <td>250.0</td>\n",
       "      <td>1.0</td>\n",
       "      <td>B</td>\n",
       "      <td>BL</td>\n",
       "      <td>IB</td>\n",
       "      <td>44599.0</td>\n",
       "    </tr>\n",
       "    <tr>\n",
       "      <th>3</th>\n",
       "      <td>2011</td>\n",
       "      <td>9</td>\n",
       "      <td>23</td>\n",
       "      <td>260.0</td>\n",
       "      <td>1.0</td>\n",
       "      <td>B</td>\n",
       "      <td>BL</td>\n",
       "      <td>IB</td>\n",
       "      <td>29900.0</td>\n",
       "    </tr>\n",
       "    <tr>\n",
       "      <th>4</th>\n",
       "      <td>2020</td>\n",
       "      <td>0</td>\n",
       "      <td>22</td>\n",
       "      <td>200.0</td>\n",
       "      <td>1.0</td>\n",
       "      <td>B</td>\n",
       "      <td>BL</td>\n",
       "      <td>IB</td>\n",
       "      <td>41995.0</td>\n",
       "    </tr>\n",
       "    <tr>\n",
       "      <th>...</th>\n",
       "      <td>...</td>\n",
       "      <td>...</td>\n",
       "      <td>...</td>\n",
       "      <td>...</td>\n",
       "      <td>...</td>\n",
       "      <td>...</td>\n",
       "      <td>...</td>\n",
       "      <td>...</td>\n",
       "      <td>...</td>\n",
       "    </tr>\n",
       "    <tr>\n",
       "      <th>65</th>\n",
       "      <td>2013</td>\n",
       "      <td>7</td>\n",
       "      <td>20</td>\n",
       "      <td>300.0</td>\n",
       "      <td>1.0</td>\n",
       "      <td>CC</td>\n",
       "      <td>GW</td>\n",
       "      <td>OB</td>\n",
       "      <td>40000.0</td>\n",
       "    </tr>\n",
       "    <tr>\n",
       "      <th>66</th>\n",
       "      <td>2011</td>\n",
       "      <td>9</td>\n",
       "      <td>20</td>\n",
       "      <td>200.0</td>\n",
       "      <td>1.0</td>\n",
       "      <td>CC</td>\n",
       "      <td>GW</td>\n",
       "      <td>OB</td>\n",
       "      <td>41499.0</td>\n",
       "    </tr>\n",
       "    <tr>\n",
       "      <th>67</th>\n",
       "      <td>2017</td>\n",
       "      <td>3</td>\n",
       "      <td>20</td>\n",
       "      <td>200.0</td>\n",
       "      <td>1.0</td>\n",
       "      <td>CC</td>\n",
       "      <td>GW</td>\n",
       "      <td>OB</td>\n",
       "      <td>66000.0</td>\n",
       "    </tr>\n",
       "    <tr>\n",
       "      <th>68</th>\n",
       "      <td>2017</td>\n",
       "      <td>3</td>\n",
       "      <td>18</td>\n",
       "      <td>150.0</td>\n",
       "      <td>1.0</td>\n",
       "      <td>CC</td>\n",
       "      <td>GW</td>\n",
       "      <td>OB</td>\n",
       "      <td>44900.0</td>\n",
       "    </tr>\n",
       "    <tr>\n",
       "      <th>69</th>\n",
       "      <td>2020</td>\n",
       "      <td>0</td>\n",
       "      <td>18</td>\n",
       "      <td>NaN</td>\n",
       "      <td>NaN</td>\n",
       "      <td>NaN</td>\n",
       "      <td>NaN</td>\n",
       "      <td>NaN</td>\n",
       "      <td>NaN</td>\n",
       "    </tr>\n",
       "  </tbody>\n",
       "</table>\n",
       "<p>70 rows × 9 columns</p>\n",
       "</div>"
      ],
      "text/plain": [
       "    Age_of_boat  Number_of_Years  Lenght_of_boat  Motor_size  \\\n",
       "0          2016                4              22       220.0   \n",
       "1          2011                9              21       220.0   \n",
       "2          2019                1              20       250.0   \n",
       "3          2011                9              23       260.0   \n",
       "4          2020                0              22       200.0   \n",
       "..          ...              ...             ...         ...   \n",
       "65         2013                7              20       300.0   \n",
       "66         2011                9              20       200.0   \n",
       "67         2017                3              20       200.0   \n",
       "68         2017                3              18       150.0   \n",
       "69         2020                0              18         NaN   \n",
       "\n",
       "    Number_of_engines Bowrider_vs_center_console Brand_of_boat Motor_type  \\\n",
       "0                 1.0                          B            BL         IB   \n",
       "1                 1.0                          B            BL         IB   \n",
       "2                 1.0                          B            BL         IB   \n",
       "3                 1.0                          B            BL         IB   \n",
       "4                 1.0                          B            BL         IB   \n",
       "..                ...                        ...           ...        ...   \n",
       "65                1.0                         CC            GW         OB   \n",
       "66                1.0                         CC            GW         OB   \n",
       "67                1.0                         CC            GW         OB   \n",
       "68                1.0                         CC            GW         OB   \n",
       "69                NaN                        NaN           NaN        NaN   \n",
       "\n",
       "    Asking_price  \n",
       "0        33500.0  \n",
       "1        24995.0  \n",
       "2        44599.0  \n",
       "3        29900.0  \n",
       "4        41995.0  \n",
       "..           ...  \n",
       "65       40000.0  \n",
       "66       41499.0  \n",
       "67       66000.0  \n",
       "68       44900.0  \n",
       "69           NaN  \n",
       "\n",
       "[70 rows x 9 columns]"
      ]
     },
     "execution_count": 207,
     "metadata": {},
     "output_type": "execute_result"
    }
   ],
   "source": [
    "scaler.fit(df1[['Asking_price']])\n",
    "#scaler.fit(df1[['Number_of_Years']])\n",
    "df1['Asking_price']=scaler.transform(df1[['Asking_price']])\n",
    "#df1['Asking_price']=scaler.transform(df1[['Asking_price']])\n",
    "\n",
    "#scaler.fit(Number_of_Years)\n",
    "#df.Number_of_Years=scaler.transform(df.Number_of_Years)\n",
    "df"
   ]
  },
  {
   "cell_type": "code",
   "execution_count": 208,
   "id": "b7ee1746",
   "metadata": {},
   "outputs": [
    {
     "name": "stderr",
     "output_type": "stream",
     "text": [
      "<ipython-input-208-2e010794c082>:5: SettingWithCopyWarning: \n",
      "A value is trying to be set on a copy of a slice from a DataFrame.\n",
      "Try using .loc[row_indexer,col_indexer] = value instead\n",
      "\n",
      "See the caveats in the documentation: https://pandas.pydata.org/pandas-docs/stable/user_guide/indexing.html#returning-a-view-versus-a-copy\n",
      "  df1['Number_of_Years']=scaler.transform(df1[['Number_of_Years']])\n"
     ]
    },
    {
     "data": {
      "text/html": [
       "<div>\n",
       "<style scoped>\n",
       "    .dataframe tbody tr th:only-of-type {\n",
       "        vertical-align: middle;\n",
       "    }\n",
       "\n",
       "    .dataframe tbody tr th {\n",
       "        vertical-align: top;\n",
       "    }\n",
       "\n",
       "    .dataframe thead th {\n",
       "        text-align: right;\n",
       "    }\n",
       "</style>\n",
       "<table border=\"1\" class=\"dataframe\">\n",
       "  <thead>\n",
       "    <tr style=\"text-align: right;\">\n",
       "      <th></th>\n",
       "      <th>Age_of_boat</th>\n",
       "      <th>Number_of_Years</th>\n",
       "      <th>Lenght_of_boat</th>\n",
       "      <th>Motor_size</th>\n",
       "      <th>Number_of_engines</th>\n",
       "      <th>Bowrider_vs_center_console</th>\n",
       "      <th>Brand_of_boat</th>\n",
       "      <th>Motor_type</th>\n",
       "      <th>Asking_price</th>\n",
       "      <th>cluster</th>\n",
       "    </tr>\n",
       "  </thead>\n",
       "  <tbody>\n",
       "    <tr>\n",
       "      <th>0</th>\n",
       "      <td>2016</td>\n",
       "      <td>0.444444</td>\n",
       "      <td>22</td>\n",
       "      <td>220.0</td>\n",
       "      <td>1.0</td>\n",
       "      <td>B</td>\n",
       "      <td>BL</td>\n",
       "      <td>IB</td>\n",
       "      <td>0.122991</td>\n",
       "      <td>0</td>\n",
       "    </tr>\n",
       "    <tr>\n",
       "      <th>1</th>\n",
       "      <td>2011</td>\n",
       "      <td>1.000000</td>\n",
       "      <td>21</td>\n",
       "      <td>220.0</td>\n",
       "      <td>1.0</td>\n",
       "      <td>B</td>\n",
       "      <td>BL</td>\n",
       "      <td>IB</td>\n",
       "      <td>0.063557</td>\n",
       "      <td>0</td>\n",
       "    </tr>\n",
       "    <tr>\n",
       "      <th>2</th>\n",
       "      <td>2019</td>\n",
       "      <td>0.111111</td>\n",
       "      <td>20</td>\n",
       "      <td>250.0</td>\n",
       "      <td>1.0</td>\n",
       "      <td>B</td>\n",
       "      <td>BL</td>\n",
       "      <td>IB</td>\n",
       "      <td>0.200552</td>\n",
       "      <td>0</td>\n",
       "    </tr>\n",
       "    <tr>\n",
       "      <th>3</th>\n",
       "      <td>2011</td>\n",
       "      <td>1.000000</td>\n",
       "      <td>23</td>\n",
       "      <td>260.0</td>\n",
       "      <td>1.0</td>\n",
       "      <td>B</td>\n",
       "      <td>BL</td>\n",
       "      <td>IB</td>\n",
       "      <td>0.097834</td>\n",
       "      <td>0</td>\n",
       "    </tr>\n",
       "    <tr>\n",
       "      <th>4</th>\n",
       "      <td>2020</td>\n",
       "      <td>0.000000</td>\n",
       "      <td>22</td>\n",
       "      <td>200.0</td>\n",
       "      <td>1.0</td>\n",
       "      <td>B</td>\n",
       "      <td>BL</td>\n",
       "      <td>IB</td>\n",
       "      <td>0.182355</td>\n",
       "      <td>0</td>\n",
       "    </tr>\n",
       "    <tr>\n",
       "      <th>...</th>\n",
       "      <td>...</td>\n",
       "      <td>...</td>\n",
       "      <td>...</td>\n",
       "      <td>...</td>\n",
       "      <td>...</td>\n",
       "      <td>...</td>\n",
       "      <td>...</td>\n",
       "      <td>...</td>\n",
       "      <td>...</td>\n",
       "      <td>...</td>\n",
       "    </tr>\n",
       "    <tr>\n",
       "      <th>64</th>\n",
       "      <td>2016</td>\n",
       "      <td>0.444444</td>\n",
       "      <td>20</td>\n",
       "      <td>200.0</td>\n",
       "      <td>1.0</td>\n",
       "      <td>CC</td>\n",
       "      <td>GW</td>\n",
       "      <td>OB</td>\n",
       "      <td>0.349406</td>\n",
       "      <td>1</td>\n",
       "    </tr>\n",
       "    <tr>\n",
       "      <th>65</th>\n",
       "      <td>2013</td>\n",
       "      <td>0.777778</td>\n",
       "      <td>20</td>\n",
       "      <td>300.0</td>\n",
       "      <td>1.0</td>\n",
       "      <td>CC</td>\n",
       "      <td>GW</td>\n",
       "      <td>OB</td>\n",
       "      <td>0.168414</td>\n",
       "      <td>0</td>\n",
       "    </tr>\n",
       "    <tr>\n",
       "      <th>66</th>\n",
       "      <td>2011</td>\n",
       "      <td>1.000000</td>\n",
       "      <td>20</td>\n",
       "      <td>200.0</td>\n",
       "      <td>1.0</td>\n",
       "      <td>CC</td>\n",
       "      <td>GW</td>\n",
       "      <td>OB</td>\n",
       "      <td>0.178889</td>\n",
       "      <td>0</td>\n",
       "    </tr>\n",
       "    <tr>\n",
       "      <th>67</th>\n",
       "      <td>2017</td>\n",
       "      <td>0.333333</td>\n",
       "      <td>20</td>\n",
       "      <td>200.0</td>\n",
       "      <td>1.0</td>\n",
       "      <td>CC</td>\n",
       "      <td>GW</td>\n",
       "      <td>OB</td>\n",
       "      <td>0.350105</td>\n",
       "      <td>1</td>\n",
       "    </tr>\n",
       "    <tr>\n",
       "      <th>68</th>\n",
       "      <td>2017</td>\n",
       "      <td>0.333333</td>\n",
       "      <td>18</td>\n",
       "      <td>150.0</td>\n",
       "      <td>1.0</td>\n",
       "      <td>CC</td>\n",
       "      <td>GW</td>\n",
       "      <td>OB</td>\n",
       "      <td>0.202655</td>\n",
       "      <td>0</td>\n",
       "    </tr>\n",
       "  </tbody>\n",
       "</table>\n",
       "<p>68 rows × 10 columns</p>\n",
       "</div>"
      ],
      "text/plain": [
       "    Age_of_boat  Number_of_Years  Lenght_of_boat  Motor_size  \\\n",
       "0          2016         0.444444              22       220.0   \n",
       "1          2011         1.000000              21       220.0   \n",
       "2          2019         0.111111              20       250.0   \n",
       "3          2011         1.000000              23       260.0   \n",
       "4          2020         0.000000              22       200.0   \n",
       "..          ...              ...             ...         ...   \n",
       "64         2016         0.444444              20       200.0   \n",
       "65         2013         0.777778              20       300.0   \n",
       "66         2011         1.000000              20       200.0   \n",
       "67         2017         0.333333              20       200.0   \n",
       "68         2017         0.333333              18       150.0   \n",
       "\n",
       "    Number_of_engines Bowrider_vs_center_console Brand_of_boat Motor_type  \\\n",
       "0                 1.0                          B            BL         IB   \n",
       "1                 1.0                          B            BL         IB   \n",
       "2                 1.0                          B            BL         IB   \n",
       "3                 1.0                          B            BL         IB   \n",
       "4                 1.0                          B            BL         IB   \n",
       "..                ...                        ...           ...        ...   \n",
       "64                1.0                         CC            GW         OB   \n",
       "65                1.0                         CC            GW         OB   \n",
       "66                1.0                         CC            GW         OB   \n",
       "67                1.0                         CC            GW         OB   \n",
       "68                1.0                         CC            GW         OB   \n",
       "\n",
       "    Asking_price  cluster  \n",
       "0       0.122991        0  \n",
       "1       0.063557        0  \n",
       "2       0.200552        0  \n",
       "3       0.097834        0  \n",
       "4       0.182355        0  \n",
       "..           ...      ...  \n",
       "64      0.349406        1  \n",
       "65      0.168414        0  \n",
       "66      0.178889        0  \n",
       "67      0.350105        1  \n",
       "68      0.202655        0  \n",
       "\n",
       "[68 rows x 10 columns]"
      ]
     },
     "execution_count": 208,
     "metadata": {},
     "output_type": "execute_result"
    }
   ],
   "source": [
    "#df1['Asking_price']=scaler.transform(df1[['Asking_price']])\n",
    "\n",
    "\n",
    "scaler.fit(df1[['Number_of_Years']])\n",
    "df1['Number_of_Years']=scaler.transform(df1[['Number_of_Years']])\n",
    "scaler.fit(df1[['Number_of_Years']])\n",
    "#df1['Number_of_Years']=scaler.transform(df1[[Number_of_Years]])\n",
    "\n",
    "df1"
   ]
  },
  {
   "cell_type": "code",
   "execution_count": 209,
   "id": "33591547",
   "metadata": {},
   "outputs": [
    {
     "data": {
      "text/plain": [
       "array([0, 1, 0, 1, 0, 0, 0, 0, 1, 1, 1, 1, 0, 0, 1, 0, 0, 0, 0, 0, 0, 1,\n",
       "       0, 0, 0, 1, 1, 0, 1, 1, 0, 0, 1, 1, 0, 0, 0, 0, 0, 0, 0, 0, 1, 1,\n",
       "       0, 0, 0, 0, 0, 0, 0, 0, 0, 0, 0, 0, 0, 0, 1, 0, 0, 0, 1, 0, 1, 1,\n",
       "       0, 0])"
      ]
     },
     "execution_count": 209,
     "metadata": {},
     "output_type": "execute_result"
    }
   ],
   "source": [
    "km = KMeans(n_clusters=2)\n",
    "y_predicted = km.fit_predict(df1[['Number_of_Years','Asking_price']])\n",
    "y_predicted"
   ]
  },
  {
   "cell_type": "raw",
   "id": "2de56d98",
   "metadata": {},
   "source": [
    "df1['cluster'] = y_predicted\n",
    "df1.drop('cluster',axis='columns',inplace=True)\n",
    "df1"
   ]
  },
  {
   "cell_type": "code",
   "execution_count": 210,
   "id": "dc62cb60",
   "metadata": {},
   "outputs": [
    {
     "data": {
      "text/plain": [
       "array([[0.23842593, 0.22813257],\n",
       "       [0.76666667, 0.09905905]])"
      ]
     },
     "execution_count": 210,
     "metadata": {},
     "output_type": "execute_result"
    }
   ],
   "source": [
    "km.cluster_centers_"
   ]
  },
  {
   "cell_type": "code",
   "execution_count": 211,
   "id": "7c3f2981",
   "metadata": {},
   "outputs": [],
   "source": [
    "#df2=df1[df1.cluster==0]\n",
    "#df3=df1[df1.cluster==1]\n",
    "\n"
   ]
  },
  {
   "cell_type": "code",
   "execution_count": 213,
   "id": "e83cd0d8",
   "metadata": {},
   "outputs": [
    {
     "data": {
      "text/plain": [
       "<matplotlib.legend.Legend at 0x1d57ff19160>"
      ]
     },
     "execution_count": 213,
     "metadata": {},
     "output_type": "execute_result"
    },
    {
     "data": {
      "image/png": "[encoded data removed]",
      "text/plain": [
       "<Figure size 432x288 with 1 Axes>"
      ]
     },
     "metadata": {
      "needs_background": "light"
     },
     "output_type": "display_data"
    }
   ],
   "source": [
    "plt.scatter(df2.Number_of_Years,df2['Asking_price'])\n",
    "plt.scatter(df3.Number_of_Years,df3['Asking_price'])\n",
    "#plt.scatter(km.cluster_center_[:,0],km.cluster_center_[:,1])\n",
    "\n",
    "plt.xlabel('Number_of_Years')\n",
    "plt.ylabel('Asking_price')\n",
    "plt.legend( 'clusteer price defien by kamdem')\n"
   ]
  },
  {
   "cell_type": "markdown",
   "id": "99be1c1b",
   "metadata": {},
   "source": [
    "### Determine cluster center "
   ]
  },
  {
   "cell_type": "markdown",
   "id": "deaac2d1",
   "metadata": {},
   "source": [
    "### Let work on Elbow mwthos to define K"
   ]
  },
  {
   "cell_type": "raw",
   "id": "1685a62d",
   "metadata": {},
   "source": []
  }
 ],
 "metadata": {
  "kernelspec": {
   "display_name": "Python 3",
   "language": "python",
   "name": "python3"
  },
  "language_info": {
   "codemirror_mode": {
    "name": "ipython",
    "version": 3
   },
   "file_extension": ".py",
   "mimetype": "text/x-python",
   "name": "python",
   "nbconvert_exporter": "python",
   "pygments_lexer": "ipython3",
   "version": "3.8.8"
  }
 },
 "nbformat": 4,
 "nbformat_minor": 5
}
