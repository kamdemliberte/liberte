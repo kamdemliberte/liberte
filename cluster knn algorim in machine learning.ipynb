{
 "cells": [
  {
   "cell_type": "code",
   "execution_count": 94,
   "id": "900e18c2",
   "metadata": {},
   "outputs": [],
   "source": [
    "import pandas as pd\n",
    "import matplotlib as plt\n",
    "import numpy as np\n",
    "import seaborn as sns\n",
    "%matplotlib inline"
   ]
  },
  {
   "cell_type": "code",
   "execution_count": 95,
   "id": "da831be7",
   "metadata": {},
   "outputs": [],
   "source": [
    "c=pd.read_csv('second hand board.csv')"
   ]
  },
  {
   "cell_type": "code",
   "execution_count": 96,
   "id": "7529e2af",
   "metadata": {},
   "outputs": [
    {
     "data": {
      "text/html": [
       "<div>\n",
       "<style scoped>\n",
       "    .dataframe tbody tr th:only-of-type {\n",
       "        vertical-align: middle;\n",
       "    }\n",
       "\n",
       "    .dataframe tbody tr th {\n",
       "        vertical-align: top;\n",
       "    }\n",
       "\n",
       "    .dataframe thead th {\n",
       "        text-align: right;\n",
       "    }\n",
       "</style>\n",
       "<table border=\"1\" class=\"dataframe\">\n",
       "  <thead>\n",
       "    <tr style=\"text-align: right;\">\n",
       "      <th></th>\n",
       "      <th>Age of boat</th>\n",
       "      <th>Number of Years</th>\n",
       "      <th>Length of boat</th>\n",
       "      <th>Motor size (HP)</th>\n",
       "      <th>Number of engines</th>\n",
       "      <th>Bowrider vs. center console</th>\n",
       "      <th>Brand of boat</th>\n",
       "      <th>Motor type</th>\n",
       "      <th>Asking price</th>\n",
       "      <th>Unnamed: 9</th>\n",
       "    </tr>\n",
       "  </thead>\n",
       "  <tbody>\n",
       "    <tr>\n",
       "      <th>0</th>\n",
       "      <td>2016</td>\n",
       "      <td>4</td>\n",
       "      <td>22</td>\n",
       "      <td>220.0</td>\n",
       "      <td>1.0</td>\n",
       "      <td>B</td>\n",
       "      <td>BL</td>\n",
       "      <td>IB</td>\n",
       "      <td>33500.0</td>\n",
       "      <td>NaN</td>\n",
       "    </tr>\n",
       "    <tr>\n",
       "      <th>1</th>\n",
       "      <td>2011</td>\n",
       "      <td>9</td>\n",
       "      <td>21</td>\n",
       "      <td>220.0</td>\n",
       "      <td>1.0</td>\n",
       "      <td>B</td>\n",
       "      <td>BL</td>\n",
       "      <td>IB</td>\n",
       "      <td>24995.0</td>\n",
       "      <td>NaN</td>\n",
       "    </tr>\n",
       "    <tr>\n",
       "      <th>2</th>\n",
       "      <td>2019</td>\n",
       "      <td>1</td>\n",
       "      <td>20</td>\n",
       "      <td>250.0</td>\n",
       "      <td>1.0</td>\n",
       "      <td>B</td>\n",
       "      <td>BL</td>\n",
       "      <td>IB</td>\n",
       "      <td>44599.0</td>\n",
       "      <td>NaN</td>\n",
       "    </tr>\n",
       "    <tr>\n",
       "      <th>3</th>\n",
       "      <td>2011</td>\n",
       "      <td>9</td>\n",
       "      <td>23</td>\n",
       "      <td>260.0</td>\n",
       "      <td>1.0</td>\n",
       "      <td>B</td>\n",
       "      <td>BL</td>\n",
       "      <td>IB</td>\n",
       "      <td>29900.0</td>\n",
       "      <td>NaN</td>\n",
       "    </tr>\n",
       "    <tr>\n",
       "      <th>4</th>\n",
       "      <td>2020</td>\n",
       "      <td>0</td>\n",
       "      <td>22</td>\n",
       "      <td>200.0</td>\n",
       "      <td>1.0</td>\n",
       "      <td>B</td>\n",
       "      <td>BL</td>\n",
       "      <td>IB</td>\n",
       "      <td>41995.0</td>\n",
       "      <td>NaN</td>\n",
       "    </tr>\n",
       "    <tr>\n",
       "      <th>...</th>\n",
       "      <td>...</td>\n",
       "      <td>...</td>\n",
       "      <td>...</td>\n",
       "      <td>...</td>\n",
       "      <td>...</td>\n",
       "      <td>...</td>\n",
       "      <td>...</td>\n",
       "      <td>...</td>\n",
       "      <td>...</td>\n",
       "      <td>...</td>\n",
       "    </tr>\n",
       "    <tr>\n",
       "      <th>65</th>\n",
       "      <td>2013</td>\n",
       "      <td>7</td>\n",
       "      <td>20</td>\n",
       "      <td>300.0</td>\n",
       "      <td>1.0</td>\n",
       "      <td>CC</td>\n",
       "      <td>GW</td>\n",
       "      <td>OB</td>\n",
       "      <td>40000.0</td>\n",
       "      <td>NaN</td>\n",
       "    </tr>\n",
       "    <tr>\n",
       "      <th>66</th>\n",
       "      <td>2011</td>\n",
       "      <td>9</td>\n",
       "      <td>20</td>\n",
       "      <td>200.0</td>\n",
       "      <td>1.0</td>\n",
       "      <td>CC</td>\n",
       "      <td>GW</td>\n",
       "      <td>OB</td>\n",
       "      <td>41499.0</td>\n",
       "      <td>NaN</td>\n",
       "    </tr>\n",
       "    <tr>\n",
       "      <th>67</th>\n",
       "      <td>2017</td>\n",
       "      <td>3</td>\n",
       "      <td>20</td>\n",
       "      <td>200.0</td>\n",
       "      <td>1.0</td>\n",
       "      <td>CC</td>\n",
       "      <td>GW</td>\n",
       "      <td>OB</td>\n",
       "      <td>66000.0</td>\n",
       "      <td>NaN</td>\n",
       "    </tr>\n",
       "    <tr>\n",
       "      <th>68</th>\n",
       "      <td>2017</td>\n",
       "      <td>3</td>\n",
       "      <td>18</td>\n",
       "      <td>150.0</td>\n",
       "      <td>1.0</td>\n",
       "      <td>CC</td>\n",
       "      <td>GW</td>\n",
       "      <td>OB</td>\n",
       "      <td>44900.0</td>\n",
       "      <td>NaN</td>\n",
       "    </tr>\n",
       "    <tr>\n",
       "      <th>69</th>\n",
       "      <td>2020</td>\n",
       "      <td>0</td>\n",
       "      <td>18</td>\n",
       "      <td>NaN</td>\n",
       "      <td>NaN</td>\n",
       "      <td>NaN</td>\n",
       "      <td>NaN</td>\n",
       "      <td>NaN</td>\n",
       "      <td>NaN</td>\n",
       "      <td>NaN</td>\n",
       "    </tr>\n",
       "  </tbody>\n",
       "</table>\n",
       "<p>70 rows × 10 columns</p>\n",
       "</div>"
      ],
      "text/plain": [
       "    Age of boat   Number of Years  Length of boat   Motor size (HP)  \\\n",
       "0           2016                4               22            220.0   \n",
       "1           2011                9               21            220.0   \n",
       "2           2019                1               20            250.0   \n",
       "3           2011                9               23            260.0   \n",
       "4           2020                0               22            200.0   \n",
       "..           ...              ...              ...              ...   \n",
       "65          2013                7               20            300.0   \n",
       "66          2011                9               20            200.0   \n",
       "67          2017                3               20            200.0   \n",
       "68          2017                3               18            150.0   \n",
       "69          2020                0               18              NaN   \n",
       "\n",
       "    Number of engines Bowrider vs. center console   Brand of boat   \\\n",
       "0                 1.0                            B              BL   \n",
       "1                 1.0                            B              BL   \n",
       "2                 1.0                            B              BL   \n",
       "3                 1.0                            B              BL   \n",
       "4                 1.0                            B              BL   \n",
       "..                ...                          ...             ...   \n",
       "65                1.0                           CC              GW   \n",
       "66                1.0                           CC              GW   \n",
       "67                1.0                           CC              GW   \n",
       "68                1.0                           CC              GW   \n",
       "69                NaN                          NaN             NaN   \n",
       "\n",
       "   Motor type   Asking price   Unnamed: 9  \n",
       "0           IB        33500.0         NaN  \n",
       "1           IB        24995.0         NaN  \n",
       "2           IB        44599.0         NaN  \n",
       "3           IB        29900.0         NaN  \n",
       "4           IB        41995.0         NaN  \n",
       "..         ...            ...         ...  \n",
       "65          OB        40000.0         NaN  \n",
       "66          OB        41499.0         NaN  \n",
       "67          OB        66000.0         NaN  \n",
       "68          OB        44900.0         NaN  \n",
       "69         NaN            NaN         NaN  \n",
       "\n",
       "[70 rows x 10 columns]"
      ]
     },
     "execution_count": 96,
     "metadata": {},
     "output_type": "execute_result"
    }
   ],
   "source": [
    "c"
   ]
  },
  {
   "cell_type": "code",
   "execution_count": 97,
   "id": "a67c17d5",
   "metadata": {},
   "outputs": [
    {
     "data": {
      "text/plain": [
       "Index(['Age of boat ', 'Number of Years', 'Length of boat ', 'Motor size (HP)',\n",
       "       'Number of engines', 'Bowrider vs. center console ', ' Brand of boat ',\n",
       "       'Motor type ', 'Asking price ', 'Unnamed: 9'],\n",
       "      dtype='object')"
      ]
     },
     "execution_count": 97,
     "metadata": {},
     "output_type": "execute_result"
    }
   ],
   "source": [
    "c.columns"
   ]
  },
  {
   "cell_type": "code",
   "execution_count": 98,
   "id": "2d7e1c0a",
   "metadata": {},
   "outputs": [
    {
     "name": "stdout",
     "output_type": "stream",
     "text": [
      "<class 'pandas.core.frame.DataFrame'>\n",
      "RangeIndex: 70 entries, 0 to 69\n",
      "Data columns (total 10 columns):\n",
      " #   Column                        Non-Null Count  Dtype  \n",
      "---  ------                        --------------  -----  \n",
      " 0   Age of boat                   70 non-null     int64  \n",
      " 1   Number of Years               70 non-null     int64  \n",
      " 2   Length of boat                70 non-null     int64  \n",
      " 3   Motor size (HP)               69 non-null     float64\n",
      " 4   Number of engines             69 non-null     float64\n",
      " 5   Bowrider vs. center console   69 non-null     object \n",
      " 6    Brand of boat                69 non-null     object \n",
      " 7   Motor type                    69 non-null     object \n",
      " 8   Asking price                  68 non-null     float64\n",
      " 9   Unnamed: 9                    1 non-null      float64\n",
      "dtypes: float64(4), int64(3), object(3)\n",
      "memory usage: 5.6+ KB\n"
     ]
    }
   ],
   "source": [
    "c.info()"
   ]
  },
  {
   "cell_type": "code",
   "execution_count": 99,
   "id": "4c62d16a",
   "metadata": {},
   "outputs": [],
   "source": [
    "#df.isnull().count()"
   ]
  },
  {
   "cell_type": "code",
   "execution_count": 100,
   "id": "2346dd09",
   "metadata": {},
   "outputs": [
    {
     "data": {
      "text/plain": [
       "Age of boat                      0\n",
       "Number of Years                  0\n",
       "Length of boat                   0\n",
       "Motor size (HP)                  1\n",
       "Number of engines                1\n",
       "Bowrider vs. center console      1\n",
       " Brand of boat                   1\n",
       "Motor type                       1\n",
       "Asking price                     2\n",
       "Unnamed: 9                      69\n",
       "dtype: int64"
      ]
     },
     "execution_count": 100,
     "metadata": {},
     "output_type": "execute_result"
    }
   ],
   "source": [
    "c.isnull().sum()"
   ]
  },
  {
   "cell_type": "code",
   "execution_count": 116,
   "id": "b3724b40",
   "metadata": {},
   "outputs": [
    {
     "data": {
      "text/html": [
       "<div>\n",
       "<style scoped>\n",
       "    .dataframe tbody tr th:only-of-type {\n",
       "        vertical-align: middle;\n",
       "    }\n",
       "\n",
       "    .dataframe tbody tr th {\n",
       "        vertical-align: top;\n",
       "    }\n",
       "\n",
       "    .dataframe thead th {\n",
       "        text-align: right;\n",
       "    }\n",
       "</style>\n",
       "<table border=\"1\" class=\"dataframe\">\n",
       "  <thead>\n",
       "    <tr style=\"text-align: right;\">\n",
       "      <th></th>\n",
       "      <th>Age of boat</th>\n",
       "      <th>Number of Years</th>\n",
       "      <th>Length of boat</th>\n",
       "      <th>Motor size (HP)</th>\n",
       "      <th>Number of engines</th>\n",
       "      <th>Bowrider vs. center console</th>\n",
       "      <th>Brand of boat</th>\n",
       "      <th>Motor type</th>\n",
       "      <th>Asking price</th>\n",
       "    </tr>\n",
       "  </thead>\n",
       "  <tbody>\n",
       "    <tr>\n",
       "      <th>0</th>\n",
       "      <td>2016</td>\n",
       "      <td>4</td>\n",
       "      <td>22</td>\n",
       "      <td>220.0</td>\n",
       "      <td>1.0</td>\n",
       "      <td>B</td>\n",
       "      <td>BL</td>\n",
       "      <td>IB</td>\n",
       "      <td>33500.0</td>\n",
       "    </tr>\n",
       "    <tr>\n",
       "      <th>1</th>\n",
       "      <td>2011</td>\n",
       "      <td>9</td>\n",
       "      <td>21</td>\n",
       "      <td>220.0</td>\n",
       "      <td>1.0</td>\n",
       "      <td>B</td>\n",
       "      <td>BL</td>\n",
       "      <td>IB</td>\n",
       "      <td>24995.0</td>\n",
       "    </tr>\n",
       "    <tr>\n",
       "      <th>2</th>\n",
       "      <td>2019</td>\n",
       "      <td>1</td>\n",
       "      <td>20</td>\n",
       "      <td>250.0</td>\n",
       "      <td>1.0</td>\n",
       "      <td>B</td>\n",
       "      <td>BL</td>\n",
       "      <td>IB</td>\n",
       "      <td>44599.0</td>\n",
       "    </tr>\n",
       "    <tr>\n",
       "      <th>3</th>\n",
       "      <td>2011</td>\n",
       "      <td>9</td>\n",
       "      <td>23</td>\n",
       "      <td>260.0</td>\n",
       "      <td>1.0</td>\n",
       "      <td>B</td>\n",
       "      <td>BL</td>\n",
       "      <td>IB</td>\n",
       "      <td>29900.0</td>\n",
       "    </tr>\n",
       "    <tr>\n",
       "      <th>4</th>\n",
       "      <td>2020</td>\n",
       "      <td>0</td>\n",
       "      <td>22</td>\n",
       "      <td>200.0</td>\n",
       "      <td>1.0</td>\n",
       "      <td>B</td>\n",
       "      <td>BL</td>\n",
       "      <td>IB</td>\n",
       "      <td>41995.0</td>\n",
       "    </tr>\n",
       "    <tr>\n",
       "      <th>...</th>\n",
       "      <td>...</td>\n",
       "      <td>...</td>\n",
       "      <td>...</td>\n",
       "      <td>...</td>\n",
       "      <td>...</td>\n",
       "      <td>...</td>\n",
       "      <td>...</td>\n",
       "      <td>...</td>\n",
       "      <td>...</td>\n",
       "    </tr>\n",
       "    <tr>\n",
       "      <th>65</th>\n",
       "      <td>2013</td>\n",
       "      <td>7</td>\n",
       "      <td>20</td>\n",
       "      <td>300.0</td>\n",
       "      <td>1.0</td>\n",
       "      <td>CC</td>\n",
       "      <td>GW</td>\n",
       "      <td>OB</td>\n",
       "      <td>40000.0</td>\n",
       "    </tr>\n",
       "    <tr>\n",
       "      <th>66</th>\n",
       "      <td>2011</td>\n",
       "      <td>9</td>\n",
       "      <td>20</td>\n",
       "      <td>200.0</td>\n",
       "      <td>1.0</td>\n",
       "      <td>CC</td>\n",
       "      <td>GW</td>\n",
       "      <td>OB</td>\n",
       "      <td>41499.0</td>\n",
       "    </tr>\n",
       "    <tr>\n",
       "      <th>67</th>\n",
       "      <td>2017</td>\n",
       "      <td>3</td>\n",
       "      <td>20</td>\n",
       "      <td>200.0</td>\n",
       "      <td>1.0</td>\n",
       "      <td>CC</td>\n",
       "      <td>GW</td>\n",
       "      <td>OB</td>\n",
       "      <td>66000.0</td>\n",
       "    </tr>\n",
       "    <tr>\n",
       "      <th>68</th>\n",
       "      <td>2017</td>\n",
       "      <td>3</td>\n",
       "      <td>18</td>\n",
       "      <td>150.0</td>\n",
       "      <td>1.0</td>\n",
       "      <td>CC</td>\n",
       "      <td>GW</td>\n",
       "      <td>OB</td>\n",
       "      <td>44900.0</td>\n",
       "    </tr>\n",
       "    <tr>\n",
       "      <th>69</th>\n",
       "      <td>2020</td>\n",
       "      <td>0</td>\n",
       "      <td>18</td>\n",
       "      <td>NaN</td>\n",
       "      <td>NaN</td>\n",
       "      <td>NaN</td>\n",
       "      <td>NaN</td>\n",
       "      <td>NaN</td>\n",
       "      <td>NaN</td>\n",
       "    </tr>\n",
       "  </tbody>\n",
       "</table>\n",
       "<p>70 rows × 9 columns</p>\n",
       "</div>"
      ],
      "text/plain": [
       "    Age of boat   Number of Years  Length of boat   Motor size (HP)  \\\n",
       "0           2016                4               22            220.0   \n",
       "1           2011                9               21            220.0   \n",
       "2           2019                1               20            250.0   \n",
       "3           2011                9               23            260.0   \n",
       "4           2020                0               22            200.0   \n",
       "..           ...              ...              ...              ...   \n",
       "65          2013                7               20            300.0   \n",
       "66          2011                9               20            200.0   \n",
       "67          2017                3               20            200.0   \n",
       "68          2017                3               18            150.0   \n",
       "69          2020                0               18              NaN   \n",
       "\n",
       "    Number of engines Bowrider vs. center console   Brand of boat   \\\n",
       "0                 1.0                            B              BL   \n",
       "1                 1.0                            B              BL   \n",
       "2                 1.0                            B              BL   \n",
       "3                 1.0                            B              BL   \n",
       "4                 1.0                            B              BL   \n",
       "..                ...                          ...             ...   \n",
       "65                1.0                           CC              GW   \n",
       "66                1.0                           CC              GW   \n",
       "67                1.0                           CC              GW   \n",
       "68                1.0                           CC              GW   \n",
       "69                NaN                          NaN             NaN   \n",
       "\n",
       "   Motor type   Asking price   \n",
       "0           IB        33500.0  \n",
       "1           IB        24995.0  \n",
       "2           IB        44599.0  \n",
       "3           IB        29900.0  \n",
       "4           IB        41995.0  \n",
       "..         ...            ...  \n",
       "65          OB        40000.0  \n",
       "66          OB        41499.0  \n",
       "67          OB        66000.0  \n",
       "68          OB        44900.0  \n",
       "69         NaN            NaN  \n",
       "\n",
       "[70 rows x 9 columns]"
      ]
     },
     "execution_count": 116,
     "metadata": {},
     "output_type": "execute_result"
    }
   ],
   "source": [
    "df=c.drop(['Unnamed: 9'],axis=1)\n",
    "df"
   ]
  },
  {
   "cell_type": "code",
   "execution_count": 117,
   "id": "a23f6c65",
   "metadata": {},
   "outputs": [
    {
     "data": {
      "text/plain": [
       "(70, 10)"
      ]
     },
     "execution_count": 117,
     "metadata": {},
     "output_type": "execute_result"
    }
   ],
   "source": [
    "c.shape\n"
   ]
  },
  {
   "cell_type": "code",
   "execution_count": 118,
   "id": "a2fa0c47",
   "metadata": {},
   "outputs": [
    {
     "data": {
      "text/plain": [
       "(70, 9)"
      ]
     },
     "execution_count": 118,
     "metadata": {},
     "output_type": "execute_result"
    }
   ],
   "source": [
    "df.shape"
   ]
  },
  {
   "cell_type": "code",
   "execution_count": 119,
   "id": "14bb68e4",
   "metadata": {},
   "outputs": [
    {
     "data": {
      "text/html": [
       "<div>\n",
       "<style scoped>\n",
       "    .dataframe tbody tr th:only-of-type {\n",
       "        vertical-align: middle;\n",
       "    }\n",
       "\n",
       "    .dataframe tbody tr th {\n",
       "        vertical-align: top;\n",
       "    }\n",
       "\n",
       "    .dataframe thead th {\n",
       "        text-align: right;\n",
       "    }\n",
       "</style>\n",
       "<table border=\"1\" class=\"dataframe\">\n",
       "  <thead>\n",
       "    <tr style=\"text-align: right;\">\n",
       "      <th></th>\n",
       "      <th>Age of boat</th>\n",
       "      <th>Number of Years</th>\n",
       "      <th>Length of boat</th>\n",
       "      <th>Motor size (HP)</th>\n",
       "      <th>Number of engines</th>\n",
       "      <th>Bowrider vs. center console</th>\n",
       "      <th>Brand of boat</th>\n",
       "      <th>Motor type</th>\n",
       "      <th>Asking price</th>\n",
       "    </tr>\n",
       "  </thead>\n",
       "  <tbody>\n",
       "    <tr>\n",
       "      <th>43</th>\n",
       "      <td>2015</td>\n",
       "      <td>5</td>\n",
       "      <td>19</td>\n",
       "      <td>150.0</td>\n",
       "      <td>1.0</td>\n",
       "      <td>B</td>\n",
       "      <td>GW</td>\n",
       "      <td>OB</td>\n",
       "      <td>NaN</td>\n",
       "    </tr>\n",
       "    <tr>\n",
       "      <th>69</th>\n",
       "      <td>2020</td>\n",
       "      <td>0</td>\n",
       "      <td>18</td>\n",
       "      <td>NaN</td>\n",
       "      <td>NaN</td>\n",
       "      <td>NaN</td>\n",
       "      <td>NaN</td>\n",
       "      <td>NaN</td>\n",
       "      <td>NaN</td>\n",
       "    </tr>\n",
       "  </tbody>\n",
       "</table>\n",
       "</div>"
      ],
      "text/plain": [
       "    Age of boat   Number of Years  Length of boat   Motor size (HP)  \\\n",
       "43          2015                5               19            150.0   \n",
       "69          2020                0               18              NaN   \n",
       "\n",
       "    Number of engines Bowrider vs. center console   Brand of boat   \\\n",
       "43                1.0                            B              GW   \n",
       "69                NaN                          NaN             NaN   \n",
       "\n",
       "   Motor type   Asking price   \n",
       "43          OB            NaN  \n",
       "69         NaN            NaN  "
      ]
     },
     "execution_count": 119,
     "metadata": {},
     "output_type": "execute_result"
    }
   ],
   "source": [
    "df[df.isnull().any(axis=1)]"
   ]
  },
  {
   "cell_type": "code",
   "execution_count": 120,
   "id": "21a2976e",
   "metadata": {},
   "outputs": [],
   "source": [
    "df1=df.dropna()"
   ]
  },
  {
   "cell_type": "code",
   "execution_count": 121,
   "id": "55c8bfca",
   "metadata": {},
   "outputs": [
    {
     "data": {
      "text/plain": [
       "(68, 9)"
      ]
     },
     "execution_count": 121,
     "metadata": {},
     "output_type": "execute_result"
    }
   ],
   "source": [
    "df1.shape"
   ]
  },
  {
   "cell_type": "code",
   "execution_count": 122,
   "id": "853bc72d",
   "metadata": {},
   "outputs": [
    {
     "name": "stdout",
     "output_type": "stream",
     "text": [
      "<class 'pandas.core.frame.DataFrame'>\n",
      "Int64Index: 68 entries, 0 to 68\n",
      "Data columns (total 9 columns):\n",
      " #   Column                        Non-Null Count  Dtype  \n",
      "---  ------                        --------------  -----  \n",
      " 0   Age of boat                   68 non-null     int64  \n",
      " 1   Number of Years               68 non-null     int64  \n",
      " 2   Length of boat                68 non-null     int64  \n",
      " 3   Motor size (HP)               68 non-null     float64\n",
      " 4   Number of engines             68 non-null     float64\n",
      " 5   Bowrider vs. center console   68 non-null     object \n",
      " 6    Brand of boat                68 non-null     object \n",
      " 7   Motor type                    68 non-null     object \n",
      " 8   Asking price                  68 non-null     float64\n",
      "dtypes: float64(3), int64(3), object(3)\n",
      "memory usage: 5.3+ KB\n"
     ]
    }
   ],
   "source": [
    "df1.info()"
   ]
  },
  {
   "cell_type": "code",
   "execution_count": 123,
   "id": "55770d31",
   "metadata": {},
   "outputs": [
    {
     "data": {
      "text/plain": [
       "array([4, 9, 1, 0, 3, 8, 6, 7, 2, 5], dtype=int64)"
      ]
     },
     "execution_count": 123,
     "metadata": {},
     "output_type": "execute_result"
    }
   ],
   "source": [
    "c['Number of Years'].unique()"
   ]
  },
  {
   "cell_type": "code",
   "execution_count": 124,
   "id": "079b9175",
   "metadata": {},
   "outputs": [
    {
     "data": {
      "text/plain": [
       "array([22, 21, 20, 23, 19, 18, 24, 26, 25], dtype=int64)"
      ]
     },
     "execution_count": 124,
     "metadata": {},
     "output_type": "execute_result"
    }
   ],
   "source": [
    "c['Length of boat '].unique()"
   ]
  },
  {
   "cell_type": "code",
   "execution_count": 125,
   "id": "5bbeb2de",
   "metadata": {},
   "outputs": [
    {
     "data": {
      "text/plain": [
       "Index(['Age of boat ', 'Number of Years', 'Length of boat ', 'Motor size (HP)',\n",
       "       'Number of engines', 'Bowrider vs. center console ', ' Brand of boat ',\n",
       "       'Motor type ', 'Asking price '],\n",
       "      dtype='object')"
      ]
     },
     "execution_count": 125,
     "metadata": {},
     "output_type": "execute_result"
    }
   ],
   "source": [
    "df.columns"
   ]
  },
  {
   "cell_type": "code",
   "execution_count": 126,
   "id": "bbc9f54e",
   "metadata": {},
   "outputs": [
    {
     "data": {
      "text/plain": [
       "<seaborn.axisgrid.FacetGrid at 0x2585db9c130>"
      ]
     },
     "execution_count": 126,
     "metadata": {},
     "output_type": "execute_result"
    },
    {
     "data": {
      "image/png": "[encoded data removed]",
      "text/plain": [
       "<Figure size 442.25x360 with 1 Axes>"
      ]
     },
     "metadata": {
      "needs_background": "light"
     },
     "output_type": "display_data"
    }
   ],
   "source": [
    "sns.lmplot(data=df,x='Number of Years',y='Asking price ',hue=' Brand of boat ')"
   ]
  },
  {
   "cell_type": "markdown",
   "id": "afb2d83a",
   "metadata": {},
   "source": [
    "## Let work on the cluster by importing sklearns appropriate for the analysis."
   ]
  },
  {
   "cell_type": "code",
   "execution_count": 135,
   "id": "31fe90d1",
   "metadata": {},
   "outputs": [],
   "source": [
    "from sklearn.cluster import KMeans\n",
    "from sklearn.preprocessing import MinMaxScaler"
   ]
  },
  {
   "cell_type": "code",
   "execution_count": 141,
   "id": "0c30aea3",
   "metadata": {},
   "outputs": [
    {
     "data": {
      "text/plain": [
       "KMeans(n_clusters=2)"
      ]
     },
     "execution_count": 141,
     "metadata": {},
     "output_type": "execute_result"
    }
   ],
   "source": [
    "km=KMeans(n_clusters=2)\n",
    "km\n"
   ]
  },
  {
   "cell_type": "code",
   "execution_count": 144,
   "id": "af4dbf50",
   "metadata": {},
   "outputs": [
    {
     "data": {
      "text/plain": [
       "array([1, 1, 1, 1, 1, 1, 1, 1, 1, 1, 1, 1, 1, 1, 1, 1, 1, 1, 1, 1, 1, 1,\n",
       "       1, 1, 1, 1, 1, 1, 1, 1, 1, 1, 1, 1, 1, 1, 0, 0, 0, 1, 1, 1, 1, 1,\n",
       "       1, 1, 1, 1, 1, 1, 1, 1, 1, 1, 1, 0, 0, 0, 0, 0, 1, 0, 1, 1, 1, 1,\n",
       "       1, 1])"
      ]
     },
     "execution_count": 144,
     "metadata": {},
     "output_type": "execute_result"
    }
   ],
   "source": [
    "y_predicted=km.fit_predict(df1[['Number of Years','Asking price ']])\n",
    "y_predicted"
   ]
  },
  {
   "cell_type": "code",
   "execution_count": 143,
   "id": "7dd62022",
   "metadata": {},
   "outputs": [
    {
     "name": "stderr",
     "output_type": "stream",
     "text": [
      "<ipython-input-143-eb9581073073>:1: SettingWithCopyWarning: \n",
      "A value is trying to be set on a copy of a slice from a DataFrame.\n",
      "Try using .loc[row_indexer,col_indexer] = value instead\n",
      "\n",
      "See the caveats in the documentation: https://pandas.pydata.org/pandas-docs/stable/user_guide/indexing.html#returning-a-view-versus-a-copy\n",
      "  df1['cluster']=y_predicted\n"
     ]
    },
    {
     "data": {
      "text/html": [
       "<div>\n",
       "<style scoped>\n",
       "    .dataframe tbody tr th:only-of-type {\n",
       "        vertical-align: middle;\n",
       "    }\n",
       "\n",
       "    .dataframe tbody tr th {\n",
       "        vertical-align: top;\n",
       "    }\n",
       "\n",
       "    .dataframe thead th {\n",
       "        text-align: right;\n",
       "    }\n",
       "</style>\n",
       "<table border=\"1\" class=\"dataframe\">\n",
       "  <thead>\n",
       "    <tr style=\"text-align: right;\">\n",
       "      <th></th>\n",
       "      <th>Age of boat</th>\n",
       "      <th>Number of Years</th>\n",
       "      <th>Length of boat</th>\n",
       "      <th>Motor size (HP)</th>\n",
       "      <th>Number of engines</th>\n",
       "      <th>Bowrider vs. center console</th>\n",
       "      <th>Brand of boat</th>\n",
       "      <th>Motor type</th>\n",
       "      <th>Asking price</th>\n",
       "      <th>cluster</th>\n",
       "    </tr>\n",
       "  </thead>\n",
       "  <tbody>\n",
       "    <tr>\n",
       "      <th>0</th>\n",
       "      <td>2016</td>\n",
       "      <td>4</td>\n",
       "      <td>22</td>\n",
       "      <td>220.0</td>\n",
       "      <td>1.0</td>\n",
       "      <td>B</td>\n",
       "      <td>BL</td>\n",
       "      <td>IB</td>\n",
       "      <td>33500.0</td>\n",
       "      <td>0</td>\n",
       "    </tr>\n",
       "    <tr>\n",
       "      <th>1</th>\n",
       "      <td>2011</td>\n",
       "      <td>9</td>\n",
       "      <td>21</td>\n",
       "      <td>220.0</td>\n",
       "      <td>1.0</td>\n",
       "      <td>B</td>\n",
       "      <td>BL</td>\n",
       "      <td>IB</td>\n",
       "      <td>24995.0</td>\n",
       "      <td>0</td>\n",
       "    </tr>\n",
       "    <tr>\n",
       "      <th>2</th>\n",
       "      <td>2019</td>\n",
       "      <td>1</td>\n",
       "      <td>20</td>\n",
       "      <td>250.0</td>\n",
       "      <td>1.0</td>\n",
       "      <td>B</td>\n",
       "      <td>BL</td>\n",
       "      <td>IB</td>\n",
       "      <td>44599.0</td>\n",
       "      <td>0</td>\n",
       "    </tr>\n",
       "    <tr>\n",
       "      <th>3</th>\n",
       "      <td>2011</td>\n",
       "      <td>9</td>\n",
       "      <td>23</td>\n",
       "      <td>260.0</td>\n",
       "      <td>1.0</td>\n",
       "      <td>B</td>\n",
       "      <td>BL</td>\n",
       "      <td>IB</td>\n",
       "      <td>29900.0</td>\n",
       "      <td>0</td>\n",
       "    </tr>\n",
       "    <tr>\n",
       "      <th>4</th>\n",
       "      <td>2020</td>\n",
       "      <td>0</td>\n",
       "      <td>22</td>\n",
       "      <td>200.0</td>\n",
       "      <td>1.0</td>\n",
       "      <td>B</td>\n",
       "      <td>BL</td>\n",
       "      <td>IB</td>\n",
       "      <td>41995.0</td>\n",
       "      <td>0</td>\n",
       "    </tr>\n",
       "  </tbody>\n",
       "</table>\n",
       "</div>"
      ],
      "text/plain": [
       "   Age of boat   Number of Years  Length of boat   Motor size (HP)  \\\n",
       "0          2016                4               22            220.0   \n",
       "1          2011                9               21            220.0   \n",
       "2          2019                1               20            250.0   \n",
       "3          2011                9               23            260.0   \n",
       "4          2020                0               22            200.0   \n",
       "\n",
       "   Number of engines Bowrider vs. center console   Brand of boat  Motor type   \\\n",
       "0                1.0                            B              BL          IB   \n",
       "1                1.0                            B              BL          IB   \n",
       "2                1.0                            B              BL          IB   \n",
       "3                1.0                            B              BL          IB   \n",
       "4                1.0                            B              BL          IB   \n",
       "\n",
       "   Asking price   cluster  \n",
       "0        33500.0        0  \n",
       "1        24995.0        0  \n",
       "2        44599.0        0  \n",
       "3        29900.0        0  \n",
       "4        41995.0        0  "
      ]
     },
     "execution_count": 143,
     "metadata": {},
     "output_type": "execute_result"
    }
   ],
   "source": [
    "df1['cluster']=y_predicted\n",
    "df1.head()"
   ]
  },
  {
   "cell_type": "code",
   "execution_count": null,
   "id": "c98e1a99",
   "metadata": {},
   "outputs": [],
   "source": [
    "df2=df1(df1[df1.cluster==0])\n",
    "df3=df1(df1[df1.cluster==1])\n",
    "plt.scatter()"
   ]
  }
 ],
 "metadata": {
  "kernelspec": {
   "display_name": "Python 3",
   "language": "python",
   "name": "python3"
  },
  "language_info": {
   "codemirror_mode": {
    "name": "ipython",
    "version": 3
   },
   "file_extension": ".py",
   "mimetype": "text/x-python",
   "name": "python",
   "nbconvert_exporter": "python",
   "pygments_lexer": "ipython3",
   "version": "3.8.8"
  }
 },
 "nbformat": 4,
 "nbformat_minor": 5
}
